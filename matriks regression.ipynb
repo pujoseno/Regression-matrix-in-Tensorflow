{
 "cells": [
  {
   "cell_type": "markdown",
   "metadata": {},
   "source": [
    "# Regresi Menggunakan Matrix Inverse pada TensorFlow"
   ]
  },
  {
   "cell_type": "markdown",
   "metadata": {},
   "source": [
    "Tutorial kali ini kita akan menggunakan tensorflow untuk menyelesaikan 2 dimensional regresi linear menggunakan metode matrix inverse method. Regresi linear dapat direpresentasikan sebagai satu set persamaan matriks, misalnya _Ax = b_ . Di sini kita tertarik untuk memecahkan koefisien dalam matriks x. Kita harus berhati-hati jika matriks observasi (matriks desain) A tidak persegi. Solusi untuk memecahkan x dapat dinyatakan sebagai ![title](matrix.png). Untuk menunjukkan in, kita akan generate data dua dimensi, menyelesaikannya di TensorFlow, dan memplot hasilnya."
   ]
  },
  {
   "cell_type": "markdown",
   "metadata": {},
   "source": [
    "## Let's Go"
   ]
  },
  {
   "cell_type": "markdown",
   "metadata": {},
   "source": [
    "Pertama kita memuat library yang diperlukan, menginisialisasi grafik, dan membuat data. kita akan membuat data x_vals dengan nilai 1 sampai 10 dengan banyak 100. Kemudian kita membuat y_vals menggunakan penjumlahan x_vals dan membangkitkan angka random dari distribusi normal dengan miu = 0 , sigma = 1 dan banyak 100. seperti berikut:"
   ]
  },
  {
   "cell_type": "code",
   "execution_count": 2,
   "metadata": {},
   "outputs": [],
   "source": [
    "import matplotlib.pyplot as plt\n",
    "import numpy as np\n",
    "import tensorflow as tf\n",
    "sess = tf.Session()\n",
    "x_vals = np.linspace(0, 10, 100)\n",
    "y_vals = x_vals + np.random.normal(0, 1, 100)"
   ]
  },
  {
   "cell_type": "code",
   "execution_count": 3,
   "metadata": {
    "scrolled": true
   },
   "outputs": [
    {
     "data": {
      "text/plain": [
       "(array([ 0.        ,  0.1010101 ,  0.2020202 ,  0.3030303 ,  0.4040404 ,\n",
       "         0.50505051,  0.60606061,  0.70707071,  0.80808081,  0.90909091,\n",
       "         1.01010101,  1.11111111,  1.21212121,  1.31313131,  1.41414141,\n",
       "         1.51515152,  1.61616162,  1.71717172,  1.81818182,  1.91919192,\n",
       "         2.02020202,  2.12121212,  2.22222222,  2.32323232,  2.42424242,\n",
       "         2.52525253,  2.62626263,  2.72727273,  2.82828283,  2.92929293,\n",
       "         3.03030303,  3.13131313,  3.23232323,  3.33333333,  3.43434343,\n",
       "         3.53535354,  3.63636364,  3.73737374,  3.83838384,  3.93939394,\n",
       "         4.04040404,  4.14141414,  4.24242424,  4.34343434,  4.44444444,\n",
       "         4.54545455,  4.64646465,  4.74747475,  4.84848485,  4.94949495,\n",
       "         5.05050505,  5.15151515,  5.25252525,  5.35353535,  5.45454545,\n",
       "         5.55555556,  5.65656566,  5.75757576,  5.85858586,  5.95959596,\n",
       "         6.06060606,  6.16161616,  6.26262626,  6.36363636,  6.46464646,\n",
       "         6.56565657,  6.66666667,  6.76767677,  6.86868687,  6.96969697,\n",
       "         7.07070707,  7.17171717,  7.27272727,  7.37373737,  7.47474747,\n",
       "         7.57575758,  7.67676768,  7.77777778,  7.87878788,  7.97979798,\n",
       "         8.08080808,  8.18181818,  8.28282828,  8.38383838,  8.48484848,\n",
       "         8.58585859,  8.68686869,  8.78787879,  8.88888889,  8.98989899,\n",
       "         9.09090909,  9.19191919,  9.29292929,  9.39393939,  9.49494949,\n",
       "         9.5959596 ,  9.6969697 ,  9.7979798 ,  9.8989899 , 10.        ]),\n",
       " array([-1.23607607,  0.75506837, -0.75124483,  1.18478244, -0.34835812,\n",
       "        -1.29555151,  1.20632844,  0.76440336,  1.22504088,  0.18367153,\n",
       "         1.43711847, -0.48038356,  0.70586142,  2.01189049,  0.45651609,\n",
       "         0.55609717,  1.31524457,  0.94843738,  0.69434328,  3.57291578,\n",
       "         0.34596593,  1.99889206,  1.85675856,  1.80413922,  3.5098872 ,\n",
       "         3.2376773 ,  1.60774478,  3.19388189,  2.69045791,  3.41220352,\n",
       "         3.29496754,  4.12033183,  2.15102196,  3.20729217,  3.46420258,\n",
       "         3.6641207 ,  4.41497046,  3.76325965,  2.31904601,  5.33785746,\n",
       "         3.44122034,  3.86997798,  3.32750062,  3.57494543,  4.13575558,\n",
       "         4.86449086,  5.26385479,  3.27512891,  5.17948055,  4.56888893,\n",
       "         4.32451257,  5.52660153,  6.53662768,  5.54786583,  4.59502351,\n",
       "         6.88840056,  4.91070506,  7.42933617,  5.83710265,  6.61488144,\n",
       "         7.9210503 ,  6.37972946,  6.07337025,  5.30072549,  7.80529319,\n",
       "         5.83675923,  7.12886457,  6.16393596,  7.17122765,  6.71808619,\n",
       "         6.6714665 ,  6.65090751,  7.14248235,  8.95997346,  7.26834588,\n",
       "         8.35851324,  8.48219536,  7.09797328,  9.28630519,  6.9478345 ,\n",
       "         7.35864345,  8.03172334,  6.39354012,  8.06792263,  8.60010178,\n",
       "         8.70180151,  8.8485456 ,  9.3981248 ,  9.35681981,  9.09633709,\n",
       "        11.15284812,  9.81012118,  8.55664072,  8.89339971,  8.84744752,\n",
       "         9.64311106,  7.21047413, 10.24730606, 11.31247028,  9.69138163]))"
      ]
     },
     "execution_count": 3,
     "metadata": {},
     "output_type": "execute_result"
    }
   ],
   "source": [
    "x_vals"
   ]
  },
  {
   "cell_type": "markdown",
   "metadata": {},
   "source": [
    "Selanjutnya kita membuat matriks dari data x_vals untuk digunakan dalam metode invers, sebelum itu kita mentranspose dan memberi nama x_vals_column. Kemudian kita membuat matriks identitas kemudian kita transpose dan memberi nama ones_column. Kita membuat matriks A, dimana isinya yaitu x_vals_column dan ones_column. Kemudian kita buat matriks b dari y_vals dan mentransposenya. Gunakan kode berikut:"
   ]
  },
  {
   "cell_type": "code",
   "execution_count": 4,
   "metadata": {},
   "outputs": [],
   "source": [
    "x_vals_column = np.transpose(np.matrix(x_vals))\n",
    "ones_column = np.transpose(np.matrix(np.repeat(1, 100)))\n",
    "A = np.column_stack((x_vals_column, ones_column))\n",
    "b = np.transpose(np.matrix(y_vals))"
   ]
  },
  {
   "cell_type": "code",
   "execution_count": 12,
   "metadata": {
    "scrolled": true
   },
   "outputs": [
    {
     "data": {
      "text/plain": [
       "matrix([[ 0.        ,  1.        ],\n",
       "        [ 0.1010101 ,  1.        ],\n",
       "        [ 0.2020202 ,  1.        ],\n",
       "        [ 0.3030303 ,  1.        ],\n",
       "        [ 0.4040404 ,  1.        ],\n",
       "        [ 0.50505051,  1.        ],\n",
       "        [ 0.60606061,  1.        ],\n",
       "        [ 0.70707071,  1.        ],\n",
       "        [ 0.80808081,  1.        ],\n",
       "        [ 0.90909091,  1.        ],\n",
       "        [ 1.01010101,  1.        ],\n",
       "        [ 1.11111111,  1.        ],\n",
       "        [ 1.21212121,  1.        ],\n",
       "        [ 1.31313131,  1.        ],\n",
       "        [ 1.41414141,  1.        ],\n",
       "        [ 1.51515152,  1.        ],\n",
       "        [ 1.61616162,  1.        ],\n",
       "        [ 1.71717172,  1.        ],\n",
       "        [ 1.81818182,  1.        ],\n",
       "        [ 1.91919192,  1.        ],\n",
       "        [ 2.02020202,  1.        ],\n",
       "        [ 2.12121212,  1.        ],\n",
       "        [ 2.22222222,  1.        ],\n",
       "        [ 2.32323232,  1.        ],\n",
       "        [ 2.42424242,  1.        ],\n",
       "        [ 2.52525253,  1.        ],\n",
       "        [ 2.62626263,  1.        ],\n",
       "        [ 2.72727273,  1.        ],\n",
       "        [ 2.82828283,  1.        ],\n",
       "        [ 2.92929293,  1.        ],\n",
       "        [ 3.03030303,  1.        ],\n",
       "        [ 3.13131313,  1.        ],\n",
       "        [ 3.23232323,  1.        ],\n",
       "        [ 3.33333333,  1.        ],\n",
       "        [ 3.43434343,  1.        ],\n",
       "        [ 3.53535354,  1.        ],\n",
       "        [ 3.63636364,  1.        ],\n",
       "        [ 3.73737374,  1.        ],\n",
       "        [ 3.83838384,  1.        ],\n",
       "        [ 3.93939394,  1.        ],\n",
       "        [ 4.04040404,  1.        ],\n",
       "        [ 4.14141414,  1.        ],\n",
       "        [ 4.24242424,  1.        ],\n",
       "        [ 4.34343434,  1.        ],\n",
       "        [ 4.44444444,  1.        ],\n",
       "        [ 4.54545455,  1.        ],\n",
       "        [ 4.64646465,  1.        ],\n",
       "        [ 4.74747475,  1.        ],\n",
       "        [ 4.84848485,  1.        ],\n",
       "        [ 4.94949495,  1.        ],\n",
       "        [ 5.05050505,  1.        ],\n",
       "        [ 5.15151515,  1.        ],\n",
       "        [ 5.25252525,  1.        ],\n",
       "        [ 5.35353535,  1.        ],\n",
       "        [ 5.45454545,  1.        ],\n",
       "        [ 5.55555556,  1.        ],\n",
       "        [ 5.65656566,  1.        ],\n",
       "        [ 5.75757576,  1.        ],\n",
       "        [ 5.85858586,  1.        ],\n",
       "        [ 5.95959596,  1.        ],\n",
       "        [ 6.06060606,  1.        ],\n",
       "        [ 6.16161616,  1.        ],\n",
       "        [ 6.26262626,  1.        ],\n",
       "        [ 6.36363636,  1.        ],\n",
       "        [ 6.46464646,  1.        ],\n",
       "        [ 6.56565657,  1.        ],\n",
       "        [ 6.66666667,  1.        ],\n",
       "        [ 6.76767677,  1.        ],\n",
       "        [ 6.86868687,  1.        ],\n",
       "        [ 6.96969697,  1.        ],\n",
       "        [ 7.07070707,  1.        ],\n",
       "        [ 7.17171717,  1.        ],\n",
       "        [ 7.27272727,  1.        ],\n",
       "        [ 7.37373737,  1.        ],\n",
       "        [ 7.47474747,  1.        ],\n",
       "        [ 7.57575758,  1.        ],\n",
       "        [ 7.67676768,  1.        ],\n",
       "        [ 7.77777778,  1.        ],\n",
       "        [ 7.87878788,  1.        ],\n",
       "        [ 7.97979798,  1.        ],\n",
       "        [ 8.08080808,  1.        ],\n",
       "        [ 8.18181818,  1.        ],\n",
       "        [ 8.28282828,  1.        ],\n",
       "        [ 8.38383838,  1.        ],\n",
       "        [ 8.48484848,  1.        ],\n",
       "        [ 8.58585859,  1.        ],\n",
       "        [ 8.68686869,  1.        ],\n",
       "        [ 8.78787879,  1.        ],\n",
       "        [ 8.88888889,  1.        ],\n",
       "        [ 8.98989899,  1.        ],\n",
       "        [ 9.09090909,  1.        ],\n",
       "        [ 9.19191919,  1.        ],\n",
       "        [ 9.29292929,  1.        ],\n",
       "        [ 9.39393939,  1.        ],\n",
       "        [ 9.49494949,  1.        ],\n",
       "        [ 9.5959596 ,  1.        ],\n",
       "        [ 9.6969697 ,  1.        ],\n",
       "        [ 9.7979798 ,  1.        ],\n",
       "        [ 9.8989899 ,  1.        ],\n",
       "        [10.        ,  1.        ]])"
      ]
     },
     "execution_count": 12,
     "metadata": {},
     "output_type": "execute_result"
    }
   ],
   "source": [
    "A"
   ]
  },
  {
   "cell_type": "markdown",
   "metadata": {},
   "source": [
    "Kita kemudian mengubah matriks A dan b menjadi tensor, sebagai berikut:"
   ]
  },
  {
   "cell_type": "code",
   "execution_count": 5,
   "metadata": {},
   "outputs": [],
   "source": [
    "A_tensor = tf.constant(A)\n",
    "b_tensor = tf.constant(b)"
   ]
  },
  {
   "cell_type": "code",
   "execution_count": 6,
   "metadata": {},
   "outputs": [
    {
     "data": {
      "text/plain": [
       "<tf.Tensor 'Const:0' shape=(100, 2) dtype=float64>"
      ]
     },
     "execution_count": 6,
     "metadata": {},
     "output_type": "execute_result"
    }
   ],
   "source": [
    "A_tensor"
   ]
  },
  {
   "cell_type": "markdown",
   "metadata": {},
   "source": [
    "tf.matmul digunakan untuk mengubah 2 array (tranpose dari A_tensor , A_tensor) menjadi 1 array (tA_A). Setelah itu kita lakukan matriks invers terhadap tA_A dengan memberi simbol tA_A_inv. Kemudian kita juga membuat product dan solution. Setelah kita mengatur matriks, kita dapat menggunakan TensorFlow untuk menyelesaikannya menggunakan metode invers matriks, sebagai berikut:"
   ]
  },
  {
   "cell_type": "code",
   "execution_count": 9,
   "metadata": {},
   "outputs": [],
   "source": [
    "tA_A = tf.matmul(tf.transpose(A_tensor), A_tensor)\n",
    "tA_A_inv = tf.matrix_inverse(tA_A)\n",
    "product = tf.matmul(tA_A_inv, tf.transpose(A_tensor))\n",
    "solution = tf.matmul(product, b_tensor)\n",
    "solution_eval = sess.run(solution)"
   ]
  },
  {
   "cell_type": "code",
   "execution_count": 14,
   "metadata": {},
   "outputs": [
    {
     "data": {
      "text/plain": [
       "array([[ 1.03881012],\n",
       "       [-0.24808173]])"
      ]
     },
     "execution_count": 14,
     "metadata": {},
     "output_type": "execute_result"
    }
   ],
   "source": [
    "solution_eval"
   ]
  },
  {
   "cell_type": "markdown",
   "metadata": {},
   "source": [
    "Kita sekarang ekstrak koefisien dari solution, slope dan y-intercept. Didapatkan nilai slope = 1.0388 dan y_intercept = 0.2481."
   ]
  },
  {
   "cell_type": "code",
   "execution_count": 15,
   "metadata": {},
   "outputs": [
    {
     "name": "stdout",
     "output_type": "stream",
     "text": [
      "slope: 1.0388101164979282\n",
      "y_intercept:-0.24808172836579312\n"
     ]
    }
   ],
   "source": [
    "slope = solution_eval[0][0]\n",
    "y_intercept = solution_eval[1][0]\n",
    "print('slope: ' + str(slope))\n",
    "print('y_intercept:' + str(y_intercept))"
   ]
  },
  {
   "cell_type": "markdown",
   "metadata": {},
   "source": [
    "Model yang digunakan adalah y_intercept +slope * i. Kemudian kita tampilkan x_vals dan y_vals dengan label data. Selanjutnya membuat best fit line pada plot. Kemudian kita bisa lihat hasil pada plot dibahah ini."
   ]
  },
  {
   "cell_type": "code",
   "execution_count": 22,
   "metadata": {},
   "outputs": [
    {
     "data": {
      "image/png": "[encoded data removed]",
      "text/plain": [
       "<Figure size 432x288 with 1 Axes>"
      ]
     },
     "metadata": {},
     "output_type": "display_data"
    }
   ],
   "source": [
    "best_fit = []\n",
    "for i in x_vals:a\n",
    "    best_fit.append(y_intercept+slope*i)\n",
    "plt.plot(x_vals, y_vals, 'o', label='Data')\n",
    "plt.plot(x_vals, best_fit, 'r-', label='Best fit line',linewidth=3)\n",
    "plt.legend(loc='upper left')\n",
    "plt.show()"
   ]
  },
  {
   "cell_type": "code",
   "execution_count": 20,
   "metadata": {},
   "outputs": [
    {
     "data": {
      "text/plain": [
       "[<matplotlib.lines.Line2D at 0x7fe202f62278>]"
      ]
     },
     "execution_count": 20,
     "metadata": {},
     "output_type": "execute_result"
    },
    {
     "data": {
      "image/png": "[encoded data removed]",
      "text/plain": [
       "<Figure size 432x288 with 1 Axes>"
      ]
     },
     "metadata": {},
     "output_type": "display_data"
    }
   ],
   "source": []
  },
  {
   "cell_type": "code",
   "execution_count": 21,
   "metadata": {},
   "outputs": [
    {
     "data": {
      "image/png": "[encoded data removed]",
      "text/plain": [
       "<Figure size 432x288 with 1 Axes>"
      ]
     },
     "metadata": {},
     "output_type": "display_data"
    }
   ],
   "source": []
  },
  {
   "cell_type": "code",
   "execution_count": null,
   "metadata": {},
   "outputs": [],
   "source": []
  }
 ],
 "metadata": {
  "kernelspec": {
   "display_name": "Python 3",
   "language": "python",
   "name": "python3"
  },
  "language_info": {
   "codemirror_mode": {
    "name": "ipython",
    "version": 3
   },
   "file_extension": ".py",
   "mimetype": "text/x-python",
   "name": "python",
   "nbconvert_exporter": "python",
   "pygments_lexer": "ipython3",
   "version": "3.5.2"
  }
 },
 "nbformat": 4,
 "nbformat_minor": 2
}
